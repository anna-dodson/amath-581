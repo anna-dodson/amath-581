{
 "cells": [
  {
   "cell_type": "markdown",
   "metadata": {},
   "source": [
    "# HW 1 - root finding methods\n",
    "Anna Dodson\n",
    "September 30, 2024\n",
    "\n",
    "#### A1. Newton-Raphson Method\n"
   ]
  },
  {
   "cell_type": "code",
   "execution_count": 36,
   "metadata": {},
   "outputs": [
    {
     "name": "stdout",
     "output_type": "stream",
     "text": [
      "Newton-Raphson method: x_r = -0.57078961788788, iterations = 11\n",
      "x array is [-1.6, 3.1979951385210694, 2.4644024441424284, 1.2035359007112925, 0.6502014632644292, -0.1169233418248703, -0.6605234854521386, -0.5219265439062168, -0.5665527428708069, -0.5707465821813341, -0.57078961788788, -0.5707896224673152]\n",
      "12\n"
     ]
    }
   ],
   "source": [
    "import numpy as np\n",
    "from typing import Tuple\n",
    "\n",
    "initial_guess = -1.6\n",
    "\n",
    "def f(x):\n",
    "    return x * np.sin(3 * x) - np.exp(x)\n",
    "\n",
    "def df_dx(x):\n",
    "    return np.sin(3 * x) + 3 * x * np.cos(3 * x) - np.exp(x)\n",
    "\n",
    "tolerance = 1e-6\n",
    "max_iter = 100\n",
    "initial_guess = -1.6\n",
    "\n",
    "def iter_newton_raphson(f, df_dx, x0, tol, max_iter, x_arr) -> Tuple[float, int]:\n",
    "    xn = x0\n",
    "    for n in range(max_iter):\n",
    "        fxn = f(xn)\n",
    "        #print(f\"Iteration {n + 1}: x_n is {xn}, f(x) is {fxn}\")\n",
    "        x_arr.append(xn)\n",
    "        if abs(fxn) < tol:\n",
    "            #strangely, autograder seems to want the last point too.\n",
    "            x_arr.append(xn - fxn / dfxn)\n",
    "            return xn, n + 1\n",
    "        dfxn = df_dx(xn)\n",
    "        if dfxn == 0:\n",
    "            return None, n + 1  # Derivative is zero (stagnation)\n",
    "        xn = xn - fxn / dfxn\n",
    "    return None, max_iter\n",
    "\n",
    "x1_arr = []\n",
    "solution_nr, iterations_nr = iter_newton_raphson(f, df_dx, initial_guess, tolerance, max_iter, x1_arr)\n",
    "print(f\"Newton-Raphson method: x_r = {solution_nr}, iterations = {iterations_nr}\")\n",
    "print(f\"x array is {x1_arr}\")"
   ]
  },
  {
   "cell_type": "markdown",
   "metadata": {},
   "source": [
    "#### A2. Bisection Method"
   ]
  },
  {
   "cell_type": "code",
   "execution_count": 12,
   "metadata": {},
   "outputs": [
    {
     "name": "stdout",
     "output_type": "stream",
     "text": [
      "Bisection method: Solution = -0.5707893371582031, Iterations = 17\n",
      "x_mid is [-0.55, -0.625, -0.5875, -0.5687500000000001, -0.578125, -0.5734375, -0.5710937500000001, -0.5699218750000001, -0.5705078125, -0.57080078125, -0.570654296875, -0.5707275390625, -0.57076416015625, -0.570782470703125, -0.5707916259765625, -0.5707870483398438, -0.5707893371582031]\n"
     ]
    }
   ],
   "source": [
    "# Bisection method parameters\n",
    "x_left = -0.7\n",
    "x_right = -0.4\n",
    "\n",
    "# Bisection method\n",
    "def bisection(f, x_left, x_right, tol, max_iter, mid_arr):\n",
    "    for n in range(max_iter):\n",
    "        x_mid = (x_left + x_right) / 2\n",
    "        f_mid = f(x_mid)\n",
    "        #print(f\"Iteration {n + 1}: x_mid is {x_mid}, f(x_mid) is {f_mid}\")\n",
    "        mid_arr.append(x_mid)\n",
    "        if abs(f_mid) < tol:\n",
    "            return x_mid, n + 1 # Root found\n",
    "        \n",
    "        # Check the sign of the function at the midpoint\n",
    "        if f(x_left) * f_mid < 0:\n",
    "            x_right = x_mid\n",
    "        else:\n",
    "            x_left = x_mid\n",
    "    \n",
    "    return None, max_iter\n",
    "\n",
    "# Run the Bisection method\n",
    "x2_arr = []\n",
    "solution_bisection, iterations_bisection = bisection(f, x_left, x_right, tolerance, max_iter, x2_arr)\n",
    "print(f\"Bisection method: Solution = {solution_bisection}, Iterations = {iterations_bisection}\")\n",
    "print(f\"x_mid is {x2_arr}\")"
   ]
  },
  {
   "cell_type": "code",
   "execution_count": 13,
   "metadata": {},
   "outputs": [],
   "source": [
    "# Answer assignment\n",
    "A1 = x1_arr\n",
    "A2 = x2_arr\n",
    "A3 = [iterations_nr, iterations_bisection]"
   ]
  },
  {
   "cell_type": "markdown",
   "metadata": {},
   "source": [
    "#### Part 2: Matrix Computations"
   ]
  },
  {
   "cell_type": "code",
   "execution_count": 29,
   "metadata": {},
   "outputs": [],
   "source": [
    "A = np.array([[1, 2],[-1, 1]])\n",
    "B = np.array([[2, 0],[0, 2]])\n",
    "C = np.array([[2, 0, -3],[0, 0, -1]])\n",
    "D = np.array([[1, 2], [2, 3], [-1, 0]])\n",
    "x = np.array([[1, 0]]).transpose()\n",
    "y = np.array([[0, 1]]).transpose()\n",
    "z = np.array([[1, 2, -1]]).transpose()\n"
   ]
  },
  {
   "cell_type": "code",
   "execution_count": 32,
   "metadata": {},
   "outputs": [],
   "source": [
    "A4 = A+B\n",
    "A5 = (3*x - 4*y).flatten()\n",
    "A6 = np.matmul(A, x).flatten()\n",
    "A7 = np.matmul(B,(x-y)).flatten()\n",
    "A8 = np.matmul(D, x).flatten()\n",
    "A9 = (np.matmul(D, y) + z).flatten()\n",
    "A10 = np.matmul(A, B)\n",
    "A11 = np.matmul(B, C)\n",
    "A12 = np.matmul(C, D)"
   ]
  },
  {
   "cell_type": "code",
   "execution_count": 34,
   "metadata": {},
   "outputs": [
    {
     "name": "stdout",
     "output_type": "stream",
     "text": [
      "[[ 3  2]\n",
      " [-1  3]]\n",
      "[ 3 -4]\n",
      "[ 1 -1]\n",
      "[ 2 -2]\n",
      "[ 1  2 -1]\n",
      "[ 3  5 -1]\n",
      "[[ 2  4]\n",
      " [-2  2]]\n",
      "[[ 4  0 -6]\n",
      " [ 0  0 -2]]\n",
      "[[5 4]\n",
      " [1 0]]\n",
      "1e-06\n",
      "1e-06\n"
     ]
    }
   ],
   "source": [
    "print(A4)\n",
    "print(A5)\n",
    "print(A6)\n",
    "print(A7)\n",
    "print(A8)\n",
    "print(A9)\n",
    "print(A10)\n",
    "print(A11)\n",
    "print(A12)"
   ]
  }
 ],
 "metadata": {
  "kernelspec": {
   "display_name": "base",
   "language": "python",
   "name": "python3"
  },
  "language_info": {
   "codemirror_mode": {
    "name": "ipython",
    "version": 3
   },
   "file_extension": ".py",
   "mimetype": "text/x-python",
   "name": "python",
   "nbconvert_exporter": "python",
   "pygments_lexer": "ipython3",
   "version": "3.11.9"
  }
 },
 "nbformat": 4,
 "nbformat_minor": 2
}
